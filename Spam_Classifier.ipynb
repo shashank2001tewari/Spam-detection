{
 "cells": [
  {
   "cell_type": "code",
   "execution_count": null,
   "id": "f127c63d",
   "metadata": {
    "scrolled": false
   },
   "outputs": [],
   "source": [
    "import pandas as pd\n",
    "import matplotlib.pyplot as plt\n",
    "%matplotlib inline\n",
    "from tkinter import *"
   ]
  },
  {
   "cell_type": "code",
   "execution_count": null,
   "id": "b85b97e0",
   "metadata": {
    "scrolled": false
   },
   "outputs": [],
   "source": [
    "Data=pd.read_csv(\"C:\\\\Users\\\\91952\\\\Documents\\\\spam.csv\",encoding=\"latin-1\")"
   ]
  },
  {
   "cell_type": "code",
   "execution_count": null,
   "id": "af115e51",
   "metadata": {},
   "outputs": [],
   "source": [
    "Data.head()"
   ]
  },
  {
   "cell_type": "code",
   "execution_count": null,
   "id": "0ca5a718",
   "metadata": {},
   "outputs": [],
   "source": [
    "Data=Data.drop(['Unnamed: 2','Unnamed: 3','Unnamed: 4'],axis=1)\n",
    "Data.head()"
   ]
  },
  {
   "cell_type": "code",
   "execution_count": null,
   "id": "6050356d",
   "metadata": {},
   "outputs": [],
   "source": [
    "Data.rename(columns={'v1':'label','v2':'Messages'},inplace=True)\n",
    "Data.head()"
   ]
  },
  {
   "cell_type": "code",
   "execution_count": null,
   "id": "a8dcfc6c",
   "metadata": {},
   "outputs": [],
   "source": [
    "Data.shape"
   ]
  },
  {
   "cell_type": "code",
   "execution_count": null,
   "id": "26f47d2e",
   "metadata": {
    "scrolled": true
   },
   "outputs": [],
   "source": [
    "Data.drop_duplicates(inplace=True)\n",
    "Data.shape"
   ]
  },
  {
   "cell_type": "code",
   "execution_count": null,
   "id": "31c0882d",
   "metadata": {},
   "outputs": [],
   "source": [
    "Data['Type']=Data['label'].map({'ham':0,'spam':1})\n",
    "Data.drop(['label'],axis=1,inplace=True)\n",
    "Data.head()"
   ]
  },
  {
   "cell_type": "code",
   "execution_count": null,
   "id": "7e46040a",
   "metadata": {},
   "outputs": [],
   "source": [
    "import string\n",
    "import re\n",
    "import nltk\n",
    "nltk.download('stopwords')\n",
    "from nltk.corpus import stopwords\n",
    "def preprocess_text(message):\n",
    "    \n",
    "    without_punc= [char for char in message if char not in string.punctuation]\n",
    "     \n",
    "    without_punc= ' '.join(without_punc)\n",
    "\n",
    "    return [word for word in without_punc.split() if word.lower() not in stopwords.words('english')]"
   ]
  },
  {
   "cell_type": "code",
   "execution_count": null,
   "id": "5fa804c2",
   "metadata": {},
   "outputs": [],
   "source": [
    "Data['Messages'].head().apply(preprocess_text)"
   ]
  },
  {
   "cell_type": "code",
   "execution_count": null,
   "id": "4daddab4",
   "metadata": {
    "scrolled": true
   },
   "outputs": [],
   "source": [
    "from wordcloud import WordCloud\n",
    "spam_words=''.join(list(Data[Data['Type']==1]['Messages']))\n",
    "spam_wc=WordCloud(width=512,height=512).generate(spam_words)\n",
    "plt.figure(figsize=(10,8),facecolor='k')\n",
    "plt.imshow(spam_wc)\n",
    "plt.show()"
   ]
  },
  {
   "cell_type": "code",
   "execution_count": null,
   "id": "de4e6dcd",
   "metadata": {
    "scrolled": true
   },
   "outputs": [],
   "source": [
    "from wordcloud import WordCloud\n",
    "Ham_word=''.join(list(Data[Data['Type']==0]['Messages']))\n",
    "Ham_Word=WordCloud(width=512,height=512).generate(Ham_word)\n",
    "plt.figure(figsize=(10,8),facecolor='k')\n",
    "plt.imshow(Ham_Word)\n",
    "plt.show()"
   ]
  },
  {
   "cell_type": "code",
   "execution_count": null,
   "id": "91e120cf",
   "metadata": {},
   "outputs": [],
   "source": [
    "from sklearn.feature_extraction.text import CountVectorizer\n",
    "x=Data['Messages']\n",
    "y=Data['Type']\n",
    "Vector_form=CountVectorizer()\n",
    "x=Vector_form.fit_transform(x)"
   ]
  },
  {
   "cell_type": "code",
   "execution_count": null,
   "id": "c99b6046",
   "metadata": {},
   "outputs": [],
   "source": [
    "from sklearn.model_selection import train_test_split\n",
    "x_train,x_test,y_train,y_test=train_test_split(x,y,test_size=0.20,random_state=0)"
   ]
  },
  {
   "cell_type": "code",
   "execution_count": null,
   "id": "8cedd968",
   "metadata": {},
   "outputs": [],
   "source": [
    "from sklearn.naive_bayes import MultinomialNB\n",
    "Classifier=MultinomialNB().fit(x_train,y_train)"
   ]
  },
  {
   "cell_type": "code",
   "execution_count": null,
   "id": "c04bc3aa",
   "metadata": {},
   "outputs": [],
   "source": [
    "from sklearn.metrics import classification_report,confusion_matrix,accuracy_score\n",
    "predict_messages=Classifier.predict(x_test)\n",
    "print(classification_report(y_test,predict_messages))\n",
    "print()\n",
    "print('Confusion matrix of the classifier:\\n',confusion_matrix(y_test,predict_messages))\n",
    "print()\n",
    "print('Accuracy of the classifier:\\n',accuracy_score(y_test,predict_messages))"
   ]
  },
  {
   "cell_type": "code",
   "execution_count": null,
   "id": "b14eb273",
   "metadata": {},
   "outputs": [],
   "source": [
    " def check_message():\n",
    "    classes=['ham','spam']\n",
    "    vector_value=Vector_form.transform([e.get()]).toarray()\n",
    "    p=Classifier.predict(vector_value)\n",
    "    s=[str(i) for i in p]            \n",
    "    a=int(\"\".join(s))                 \n",
    "    res=str(\"This is a\"+\" \"+classes[a]+\" \"+\"message.\")\n",
    "    if classes[a]==\"spam\":\n",
    "        classification=Label(root,text=res,font=('helvetica',15,'bold'),fg=\"green\")\n",
    "        classification.pack()\n",
    "    else:\n",
    "     classification=Label(root,text=res,font=('helvetica',15,'bold'),fg=\"blue\")\n",
    "     classification.pack()\n",
    "\n",
    "        \n",
    "    "
   ]
  },
  {
   "cell_type": "code",
   "execution_count": null,
   "id": "535dde8c",
   "metadata": {},
   "outputs": [],
   "source": [
    "root=Tk()\n",
    "root.title('Classifier_Of_Messages')\n",
    "root.geometry('400x400')\n",
    "\n",
    "head=Label(root,text=\"Classifier_Of_Messages\",font=('helvetica',24,'bold'))\n",
    "head.pack()\n",
    "e=Entry(root,width=400,borderwidth=5)\n",
    "e.pack()\n",
    "b=Button(root,text=\"Check\",font=('helvetica',20,'bold'),fg='white',bg='green',command=check_message)\n",
    "b.pack()\n",
    "root.mainloop()\n"
   ]
  },
  {
   "cell_type": "code",
   "execution_count": null,
   "id": "95c1ed27",
   "metadata": {},
   "outputs": [],
   "source": []
  },
  {
   "cell_type": "code",
   "execution_count": null,
   "id": "f5209a02",
   "metadata": {},
   "outputs": [],
   "source": []
  }
 ],
 "metadata": {
  "kernelspec": {
   "display_name": "Python 3 (ipykernel)",
   "language": "python",
   "name": "python3"
  },
  "language_info": {
   "codemirror_mode": {
    "name": "ipython",
    "version": 3
   },
   "file_extension": ".py",
   "mimetype": "text/x-python",
   "name": "python",
   "nbconvert_exporter": "python",
   "pygments_lexer": "ipython3",
   "version": "3.10.5"
  }
 },
 "nbformat": 4,
 "nbformat_minor": 5
}
